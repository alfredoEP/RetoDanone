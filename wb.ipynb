{
 "cells": [
  {
   "cell_type": "code",
   "execution_count": 5,
   "metadata": {},
   "outputs": [],
   "source": [
    "import pandas as pd\n",
    "import os"
   ]
  },
  {
   "cell_type": "code",
   "execution_count": 9,
   "metadata": {},
   "outputs": [],
   "source": [
    "if not os.path.exists('danone.pickle'):\n",
    "    url = 'https://challenges-asset-files.s3.us-east-2.amazonaws.com/Events/Danone+Hackathon+Mexico/data/train_products.json'\n",
    "    df = pd.read_json(url, orient='index')\n",
    "    df.to_pickle('danone.pickle')\n",
    "    # s = df.size\n",
    "    # m = df.memory_usage(deep=True)\n",
    "    # print(s, m.sum()/(1024*1024))\n",
    "else:\n",
    "    df=pd.read_pickle('danone.pickle')"
   ]
  },
  {
   "cell_type": "code",
   "execution_count": 19,
   "metadata": {},
   "outputs": [
    {
     "data": {
      "text/plain": [
       "Index(['name', 'brand', 'generic_name', 'categories_hierarchy', 'is_beverage',\n",
       "       'selling_countries', 'ingredient_origins', 'ingredients',\n",
       "       'additives_count', 'calcium_100g', 'carbohydrates_100g',\n",
       "       'energy_kcal_100g', 'fat_100g', 'fiber_100g', 'proteins_100g',\n",
       "       'salt_100g', 'sodium_100g', 'sugars_100g', 'nutrition_grade',\n",
       "       'packaging_materials',\n",
       "       'non_recyclable_and_non_biodegradable_materials_count',\n",
       "       'est_co2_agriculture', 'est_co2_consumption', 'est_co2_distribution',\n",
       "       'est_co2_packaging', 'est_co2_processing', 'est_co2_transportation',\n",
       "       'ecoscore_grade'],\n",
       "      dtype='object')"
      ]
     },
     "execution_count": 19,
     "metadata": {},
     "output_type": "execute_result"
    }
   ],
   "source": [
    "df.columns"
   ]
  },
  {
   "cell_type": "code",
   "execution_count": 24,
   "metadata": {},
   "outputs": [],
   "source": [
    "df.plot(\n",
    "    x='est_co2_agriculture',\n",
    "    y='ecoscore_grade',\n",
    "    kind='kde'\n",
    "    )"
   ]
  }
 ],
 "metadata": {
  "kernelspec": {
   "display_name": "Python 3",
   "language": "python",
   "name": "python3"
  },
  "language_info": {
   "codemirror_mode": {
    "name": "ipython",
    "version": 3
   },
   "file_extension": ".py",
   "mimetype": "text/x-python",
   "name": "python",
   "nbconvert_exporter": "python",
   "pygments_lexer": "ipython3",
   "version": "3.10.2"
  },
  "orig_nbformat": 4
 },
 "nbformat": 4,
 "nbformat_minor": 2
}
